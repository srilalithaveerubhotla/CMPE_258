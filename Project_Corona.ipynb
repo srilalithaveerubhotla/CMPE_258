{
  "nbformat": 4,
  "nbformat_minor": 0,
  "metadata": {
    "colab": {
      "name": "Project_Corona.ipynb",
      "provenance": [],
      "private_outputs": true,
      "collapsed_sections": [],
      "include_colab_link": true
    },
    "kernelspec": {
      "name": "python3",
      "display_name": "Python 3"
    },
    "accelerator": "TPU"
  },
  "cells": [
    {
      "cell_type": "markdown",
      "metadata": {
        "id": "view-in-github",
        "colab_type": "text"
      },
      "source": [
        "<a href=\"https://colab.research.google.com/github/srilalithaveerubhotla/CMPE_258/blob/master/Project_Corona.ipynb\" target=\"_parent\"><img src=\"https://colab.research.google.com/assets/colab-badge.svg\" alt=\"Open In Colab\"/></a>"
      ]
    },
    {
      "cell_type": "code",
      "metadata": {
        "id": "uRoGJd8m5gDF",
        "colab_type": "code",
        "colab": {}
      },
      "source": [
        "import numpy as np\n",
        "import pandas as pd\n",
        "np.random.seed(42)\n",
        "import requests\n",
        "import io\n",
        "import matplotlib.pyplot as plt\n",
        "import plotly.graph_objects as go\n",
        "import plotly.express as px\n",
        "import seaborn as sns\n",
        "from sklearn import preprocessing \n",
        "from sklearn.cluster import KMeans\n",
        "import scipy.cluster.hierarchy as shc\n",
        "from sklearn.cluster import DBSCAN\n",
        "from scipy.spatial.distance import cdist\n",
        "from scipy.cluster.hierarchy import dendrogram, cophenet,linkage"
      ],
      "execution_count": 0,
      "outputs": []
    },
    {
      "cell_type": "code",
      "metadata": {
        "id": "3J-fNqKVuivf",
        "colab_type": "code",
        "colab": {}
      },
      "source": [
        "from google.colab import files\n",
        "uploaded = files.upload()"
      ],
      "execution_count": 0,
      "outputs": []
    },
    {
      "cell_type": "code",
      "metadata": {
        "id": "UGMwf7zTujAj",
        "colab_type": "code",
        "colab": {}
      },
      "source": [
        "df_31 = pd.read_csv(io.StringIO(uploaded['2019_nCoV_20200121_20200131.csv'].decode('utf-8')))\n",
        "df_30 = pd.read_csv(io.StringIO(uploaded['2019_nCoV_20200121_20200130.csv'].decode('utf-8')))\n",
        "df_28 = pd.read_csv(io.StringIO(uploaded['2019_nCoV_20200121_20200128.csv'].decode('utf-8')))\n",
        "df_27 = pd.read_csv(io.StringIO(uploaded['2019_nCoV_20200121_20200127.csv'].decode('utf-8')))\n",
        "df_26 = pd.read_csv(io.StringIO(uploaded['2019_nC0v_20200121_20200126_cleaned.csv'].decode('utf-8')))\n",
        "df_sum = pd.read_csv(io.StringIO(uploaded['summary.csv'].decode('utf-8')))"
      ],
      "execution_count": 0,
      "outputs": []
    },
    {
      "cell_type": "code",
      "metadata": {
        "id": "jcAcnHjRujrl",
        "colab_type": "code",
        "colab": {}
      },
      "source": [
        "df_sum.head(5)"
      ],
      "execution_count": 0,
      "outputs": []
    },
    {
      "cell_type": "code",
      "metadata": {
        "id": "OTYMiK3Ruj4G",
        "colab_type": "code",
        "colab": {}
      },
      "source": [
        "df_sum=df_sum.fillna(value=0)"
      ],
      "execution_count": 0,
      "outputs": []
    },
    {
      "cell_type": "code",
      "metadata": {
        "id": "qAkvgpjlukBj",
        "colab_type": "code",
        "colab": {}
      },
      "source": [
        "df_sum['Last Update'] =  pd.to_datetime(df_sum['Last Update'])"
      ],
      "execution_count": 0,
      "outputs": []
    },
    {
      "cell_type": "code",
      "metadata": {
        "id": "iyG2WRdiukdn",
        "colab_type": "code",
        "colab": {}
      },
      "source": [
        "df_sum.groupby(by='Country').groups.keys()"
      ],
      "execution_count": 0,
      "outputs": []
    },
    {
      "cell_type": "code",
      "metadata": {
        "id": "-T_fKVOdukm2",
        "colab_type": "code",
        "colab": {}
      },
      "source": [
        "df_sum.groupby(by='Last Update').groups.keys()"
      ],
      "execution_count": 0,
      "outputs": []
    },
    {
      "cell_type": "code",
      "metadata": {
        "id": "i1eEQbNjukqq",
        "colab_type": "code",
        "colab": {}
      },
      "source": [
        "df_sum.groupby(by='Province/State').groups.keys()"
      ],
      "execution_count": 0,
      "outputs": []
    },
    {
      "cell_type": "code",
      "metadata": {
        "id": "HNrdnE0TukyY",
        "colab_type": "code",
        "colab": {}
      },
      "source": [
        "country_count=pd.DataFrame(df_sum.groupby(['Country'])['Deaths'].count(),columns=['country','count'])"
      ],
      "execution_count": 0,
      "outputs": []
    },
    {
      "cell_type": "code",
      "metadata": {
        "colab_type": "code",
        "id": "5qy66-JKiikf",
        "colab": {}
      },
      "source": [
        "df_sum.head(3)"
      ],
      "execution_count": 0,
      "outputs": []
    },
    {
      "cell_type": "code",
      "metadata": {
        "id": "_aj9wRMlulf6",
        "colab_type": "code",
        "colab": {}
      },
      "source": [
        "df_all = pd.concat([df_31,df_30,df_28], axis=0)"
      ],
      "execution_count": 0,
      "outputs": []
    },
    {
      "cell_type": "code",
      "metadata": {
        "id": "SybCi1jnuj-z",
        "colab_type": "code",
        "colab": {}
      },
      "source": [
        "df_all=df_all.fillna(value=0)"
      ],
      "execution_count": 0,
      "outputs": []
    },
    {
      "cell_type": "code",
      "metadata": {
        "id": "bfizKWsCuj8u",
        "colab_type": "code",
        "colab": {}
      },
      "source": [
        "df_all_1=df_all.drop_duplicates()"
      ],
      "execution_count": 0,
      "outputs": []
    },
    {
      "cell_type": "code",
      "metadata": {
        "id": "wBXp5fktuj1V",
        "colab_type": "code",
        "colab": {}
      },
      "source": [
        "df_all_1.head(3)"
      ],
      "execution_count": 0,
      "outputs": []
    },
    {
      "cell_type": "code",
      "metadata": {
        "id": "E3D8lUokuHbA",
        "colab_type": "code",
        "colab": {}
      },
      "source": [
        "df_all_1['last updated'] =  pd.to_datetime(df_all_1['Last Update'])"
      ],
      "execution_count": 0,
      "outputs": []
    },
    {
      "cell_type": "code",
      "metadata": {
        "id": "zs1e9MLZt0Xq",
        "colab_type": "code",
        "colab": {}
      },
      "source": [
        "df_all_1['new_date'] = pd.to_datetime(df_all_1['Last Update']).dt.date"
      ],
      "execution_count": 0,
      "outputs": []
    },
    {
      "cell_type": "code",
      "metadata": {
        "id": "mso9_IgKrazH",
        "colab_type": "code",
        "colab": {}
      },
      "source": [
        "displays=['Confirmed','Recovered','Death','Suspected']"
      ],
      "execution_count": 0,
      "outputs": []
    },
    {
      "cell_type": "code",
      "metadata": {
        "id": "eufDliCiui-J",
        "colab_type": "code",
        "colab": {}
      },
      "source": [
        "top5 =  df_all_1.groupby(['Country/Region']).sum().nlargest(5,['Confirmed'])[displays]\n",
        "top5\n",
        "print(\"Top 5 Countries were affected most\")\n",
        "print(top5)\n",
        "top5=top5.reset_index()"
      ],
      "execution_count": 0,
      "outputs": []
    },
    {
      "cell_type": "code",
      "metadata": {
        "id": "dz09qcdtui5W",
        "colab_type": "code",
        "colab": {}
      },
      "source": [
        "plt.figure(figsize=(12,6))\n",
        "plt.xticks(rotation=90)\n",
        "plt.title(\"Top most 5 countries were affected by Coronavirus\")\n",
        "sns.barplot(x=top5.index,y='Confirmed',data=top5)\n",
        "plt.show()"
      ],
      "execution_count": 0,
      "outputs": []
    },
    {
      "cell_type": "code",
      "metadata": {
        "id": "yELClZkNu-ze",
        "colab_type": "code",
        "colab": {}
      },
      "source": [
        "df_all_1.head(50)"
      ],
      "execution_count": 0,
      "outputs": []
    },
    {
      "cell_type": "code",
      "metadata": {
        "id": "i5gdUiqW1Gyq",
        "colab_type": "code",
        "colab": {}
      },
      "source": [
        "sns.pairplot(df_all_1)"
      ],
      "execution_count": 0,
      "outputs": []
    },
    {
      "cell_type": "code",
      "metadata": {
        "id": "_qZQkCBYvLE0",
        "colab_type": "code",
        "colab": {}
      },
      "source": [
        "count_all=df_all_1.groupby(by=['new_date'],axis=0).sum().reset_index()"
      ],
      "execution_count": 0,
      "outputs": []
    },
    {
      "cell_type": "code",
      "metadata": {
        "id": "gEqbiKDZvopU",
        "colab_type": "code",
        "colab": {}
      },
      "source": [
        "count_all.head()"
      ],
      "execution_count": 0,
      "outputs": []
    },
    {
      "cell_type": "code",
      "metadata": {
        "id": "UIMIzo--ui3B",
        "colab_type": "code",
        "colab": {}
      },
      "source": [
        "plt.figure(figsize=(15,6))\n",
        "plt.xticks(rotation=90)\n",
        "plt.title('Province/State has reported Deaths case')\n",
        "sns.barplot(data=count_all, x='new_date', y='Death')"
      ],
      "execution_count": 0,
      "outputs": []
    },
    {
      "cell_type": "code",
      "metadata": {
        "id": "NUZz8uJ27yhP",
        "colab_type": "code",
        "colab": {}
      },
      "source": [
        "plt.figure(figsize=(15,6))\n",
        "plt.xticks(rotation=90)\n",
        "plt.title('Province/State has reported confirmed case')\n",
        "sns.barplot(data=count_all, x='new_date', y='Confirmed')"
      ],
      "execution_count": 0,
      "outputs": []
    },
    {
      "cell_type": "code",
      "metadata": {
        "id": "z6T25NllxQlL",
        "colab_type": "code",
        "colab": {}
      },
      "source": [
        "plt.figure(figsize=(15,6))\n",
        "plt.xticks(rotation=90)\n",
        "plt.title('Province/State has reported recovered case')\n",
        "sns.barplot(data=count_all, x='new_date', y='Recovered')"
      ],
      "execution_count": 0,
      "outputs": []
    },
    {
      "cell_type": "code",
      "metadata": {
        "id": "8iarrgG6xa8Q",
        "colab_type": "code",
        "colab": {}
      },
      "source": [
        "df_all_1=df_all_1.sort_values(by='Country/Region').reset_index()"
      ],
      "execution_count": 0,
      "outputs": []
    },
    {
      "cell_type": "code",
      "metadata": {
        "id": "xO7rfgovyipt",
        "colab_type": "code",
        "colab": {}
      },
      "source": [
        "df_all_1.head(30)"
      ],
      "execution_count": 0,
      "outputs": []
    },
    {
      "cell_type": "code",
      "metadata": {
        "id": "bhZj61JzzAP2",
        "colab_type": "code",
        "colab": {}
      },
      "source": [
        "df = df_all_1[df_all_1['Province/State'] != 0]"
      ],
      "execution_count": 0,
      "outputs": []
    },
    {
      "cell_type": "code",
      "metadata": {
        "id": "2iT6bJfGzlD2",
        "colab_type": "code",
        "colab": {}
      },
      "source": [
        "df=df[df['Country/Region']!=0]"
      ],
      "execution_count": 0,
      "outputs": []
    },
    {
      "cell_type": "code",
      "metadata": {
        "id": "j7B1fB0Ez0Ap",
        "colab_type": "code",
        "colab": {}
      },
      "source": [
        "df=df.drop(['index','Country/Region'],axis=1)"
      ],
      "execution_count": 0,
      "outputs": []
    },
    {
      "cell_type": "code",
      "metadata": {
        "id": "cET-tIdU0Oqx",
        "colab_type": "code",
        "colab": {}
      },
      "source": [
        "df.head(3)"
      ],
      "execution_count": 0,
      "outputs": []
    },
    {
      "cell_type": "code",
      "metadata": {
        "id": "AU4aL4xczsA-",
        "colab_type": "code",
        "colab": {}
      },
      "source": [
        "label_encoder = preprocessing.LabelEncoder() "
      ],
      "execution_count": 0,
      "outputs": []
    },
    {
      "cell_type": "code",
      "metadata": {
        "id": "JhvtVE8V0KgI",
        "colab_type": "code",
        "colab": {}
      },
      "source": [
        "df['Province/State']= label_encoder.fit_transform(df['Province/State']) "
      ],
      "execution_count": 0,
      "outputs": []
    },
    {
      "cell_type": "code",
      "metadata": {
        "id": "EcG9gXi10XMC",
        "colab_type": "code",
        "colab": {}
      },
      "source": [
        "df.head(3)"
      ],
      "execution_count": 0,
      "outputs": []
    },
    {
      "cell_type": "code",
      "metadata": {
        "id": "kHN_OTBD0Z4f",
        "colab_type": "code",
        "colab": {}
      },
      "source": [
        "df=df.drop(['Last Update','last updated','new_date'],axis=1)"
      ],
      "execution_count": 0,
      "outputs": []
    },
    {
      "cell_type": "code",
      "metadata": {
        "id": "I0QULr2X0msb",
        "colab_type": "code",
        "colab": {}
      },
      "source": [
        "kmeans = KMeans(n_clusters=8, init='k-means++', max_iter=300, n_init=10)\n",
        "y_kmeans = kmeans.fit_predict(df)"
      ],
      "execution_count": 0,
      "outputs": []
    },
    {
      "cell_type": "code",
      "metadata": {
        "id": "rfpm8oJv1eYs",
        "colab_type": "code",
        "colab": {}
      },
      "source": [
        "plt.scatter(df.values[:, 2], df.values[:, 4], c=y_kmeans, s=100, alpha=0.5)"
      ],
      "execution_count": 0,
      "outputs": []
    },
    {
      "cell_type": "code",
      "metadata": {
        "id": "Ob0BWwNq3383",
        "colab_type": "code",
        "colab": {}
      },
      "source": [
        "distortions = []\n",
        "K = range(1,10)\n",
        "for k in K:\n",
        "    kmean = KMeans(n_clusters=k).fit(df)\n",
        "    kmean.fit(df)\n",
        "    distortions.append(sum(np.min(cdist(df, kmean.cluster_centers_, 'euclidean'), axis=1)) / df.shape[0])\n",
        "\n",
        "# Plot the elbow\n",
        "plt.plot(K, distortions, 'bx-')\n",
        "plt.xlabel('k')\n",
        "plt.ylabel('Distortion')\n",
        "plt.title('The Elbow Method showing the optimal k')\n",
        "plt.show()"
      ],
      "execution_count": 0,
      "outputs": []
    },
    {
      "cell_type": "code",
      "metadata": {
        "id": "x3UJu1eT1qeS",
        "colab_type": "code",
        "colab": {}
      },
      "source": [
        "plt.figure(figsize=(10, 7))  \n",
        "plt.title(\"Dendrograms\")  \n",
        "dend = shc.dendrogram(shc.linkage(df, method='ward'))\n",
        "plt.axhline(y=3, color='r', linestyle='--')"
      ],
      "execution_count": 0,
      "outputs": []
    },
    {
      "cell_type": "code",
      "metadata": {
        "id": "4ErUv6pd1_jK",
        "colab_type": "code",
        "colab": {}
      },
      "source": [
        "dbscan = DBSCAN(eps=50,min_samples=8,algorithm='ball_tree')\n",
        "db_clusters = dbscan.fit_predict(df)"
      ],
      "execution_count": 0,
      "outputs": []
    },
    {
      "cell_type": "code",
      "metadata": {
        "id": "ghyYdG_V2jW6",
        "colab_type": "code",
        "colab": {}
      },
      "source": [
        "plt.figure(figsize=(10, 10))\n",
        "plt.scatter(df.values[:, 0], df.values[:, 4], c=db_clusters, s=100, alpha=0.5)\n",
        "plt.xlabel(\"Feature 0\")\n",
        "plt.ylabel(\"Feature 1\")"
      ],
      "execution_count": 0,
      "outputs": []
    },
    {
      "cell_type": "code",
      "metadata": {
        "id": "xA1xpvsp2sf2",
        "colab_type": "code",
        "colab": {}
      },
      "source": [
        "df.describe()"
      ],
      "execution_count": 0,
      "outputs": []
    },
    {
      "cell_type": "code",
      "metadata": {
        "id": "rtCjTqsF3mf-",
        "colab_type": "code",
        "colab": {}
      },
      "source": [
        ""
      ],
      "execution_count": 0,
      "outputs": []
    }
  ]
}