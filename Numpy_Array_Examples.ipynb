{
  "nbformat": 4,
  "nbformat_minor": 0,
  "metadata": {
    "colab": {
      "name": "Numpy_Array_Examples.ipynb",
      "provenance": [],
      "collapsed_sections": [],
      "authorship_tag": "ABX9TyOflo43axydOPFzYRVwx2nR",
      "include_colab_link": true
    },
    "kernelspec": {
      "name": "python3",
      "display_name": "Python 3"
    }
  },
  "cells": [
    {
      "cell_type": "markdown",
      "metadata": {
        "id": "view-in-github",
        "colab_type": "text"
      },
      "source": [
        "<a href=\"https://colab.research.google.com/github/srilalithaveerubhotla/CMPE_258/blob/master/Numpy_Array_Examples.ipynb\" target=\"_parent\"><img src=\"https://colab.research.google.com/assets/colab-badge.svg\" alt=\"Open In Colab\"/></a>"
      ]
    },
    {
      "cell_type": "markdown",
      "metadata": {
        "id": "IdJLIK1b8dl4",
        "colab_type": "text"
      },
      "source": [
        "# **Numpy Plays**\n",
        "   ### **a) Creation Types,Dimensions & Data types**\n",
        "   ### **a) Arithmetic & Boolean Operations**\n",
        "   ### **b) Reshaping,Arranging & Matrices**\n",
        "   ### **c) Sorting,Searching & Counting Functions**\n",
        "   ### **d) Slicing,Indexing,Transposing**\n",
        "   ### **e) Joining,Splitting**\n",
        "   ### **f) Exponents,Logarithms & Trignometric Functions**\n",
        "   ### **g) Statistical Operations**\n",
        "   ### **h) Broadcasting**\n",
        "   ### **i) Linear Algebra**\n"
      ]
    },
    {
      "cell_type": "code",
      "metadata": {
        "id": "b1FMah6H2oL1",
        "colab_type": "code",
        "colab": {}
      },
      "source": [
        "import numpy as np\n",
        "np.random.seed(0)"
      ],
      "execution_count": 0,
      "outputs": []
    },
    {
      "cell_type": "code",
      "metadata": {
        "id": "WN59BV_lX_2_",
        "colab_type": "code",
        "outputId": "e5571eb2-b442-4749-ee71-130f1b1cc3e4",
        "colab": {
          "base_uri": "https://localhost:8080/",
          "height": 85
        }
      },
      "source": [
        "np.empty([4,4],dtype=float)"
      ],
      "execution_count": 0,
      "outputs": [
        {
          "output_type": "execute_result",
          "data": {
            "text/plain": [
              "array([[1., 1., 1., 1.],\n",
              "       [1., 1., 1., 1.],\n",
              "       [1., 1., 1., 1.],\n",
              "       [1., 1., 1., 1.]])"
            ]
          },
          "metadata": {
            "tags": []
          },
          "execution_count": 94
        }
      ]
    },
    {
      "cell_type": "code",
      "metadata": {
        "id": "pAUS9Rq2Y_j0",
        "colab_type": "code",
        "outputId": "a9449ede-ce18-4d72-dca3-0e3f5d4fd0a8",
        "colab": {
          "base_uri": "https://localhost:8080/",
          "height": 85
        }
      },
      "source": [
        "np.zeros([4,4],dtype=float)"
      ],
      "execution_count": 0,
      "outputs": [
        {
          "output_type": "execute_result",
          "data": {
            "text/plain": [
              "array([[0., 0., 0., 0.],\n",
              "       [0., 0., 0., 0.],\n",
              "       [0., 0., 0., 0.],\n",
              "       [0., 0., 0., 0.]])"
            ]
          },
          "metadata": {
            "tags": []
          },
          "execution_count": 95
        }
      ]
    },
    {
      "cell_type": "code",
      "metadata": {
        "id": "15RKLMl1ZXho",
        "colab_type": "code",
        "outputId": "5377f665-c49a-4b7f-8527-dc7f454b3a9e",
        "colab": {
          "base_uri": "https://localhost:8080/",
          "height": 85
        }
      },
      "source": [
        "np.ones([4,4],dtype=int)"
      ],
      "execution_count": 0,
      "outputs": [
        {
          "output_type": "execute_result",
          "data": {
            "text/plain": [
              "array([[1, 1, 1, 1],\n",
              "       [1, 1, 1, 1],\n",
              "       [1, 1, 1, 1],\n",
              "       [1, 1, 1, 1]])"
            ]
          },
          "metadata": {
            "tags": []
          },
          "execution_count": 97
        }
      ]
    },
    {
      "cell_type": "code",
      "metadata": {
        "id": "L0817PWXZfqW",
        "colab_type": "code",
        "outputId": "18bc0e49-edcf-496d-9e2d-453a0c131721",
        "colab": {
          "base_uri": "https://localhost:8080/",
          "height": 34
        }
      },
      "source": [
        "np.random.randint(25, size=9)"
      ],
      "execution_count": 0,
      "outputs": [
        {
          "output_type": "execute_result",
          "data": {
            "text/plain": [
              "array([ 7,  9, 19, 21, 18,  4, 23,  6, 24])"
            ]
          },
          "metadata": {
            "tags": []
          },
          "execution_count": 100
        }
      ]
    },
    {
      "cell_type": "code",
      "metadata": {
        "id": "gjhfT4IUa2nI",
        "colab_type": "code",
        "outputId": "d17583eb-f915-4751-81cc-f10e08fb80dd",
        "colab": {
          "base_uri": "https://localhost:8080/",
          "height": 51
        }
      },
      "source": [
        "np.random.randint(25,size=(2,2))"
      ],
      "execution_count": 0,
      "outputs": [
        {
          "output_type": "execute_result",
          "data": {
            "text/plain": [
              "array([[24, 12],\n",
              "       [ 1,  6]])"
            ]
          },
          "metadata": {
            "tags": []
          },
          "execution_count": 107
        }
      ]
    },
    {
      "cell_type": "code",
      "metadata": {
        "id": "GyULkjwDa_hi",
        "colab_type": "code",
        "outputId": "f473573e-e597-4d45-b87b-dc7cdc80dc4f",
        "colab": {
          "base_uri": "https://localhost:8080/",
          "height": 68
        }
      },
      "source": [
        "np.random.randint(25,size=(3,3))"
      ],
      "execution_count": 0,
      "outputs": [
        {
          "output_type": "execute_result",
          "data": {
            "text/plain": [
              "array([[ 7, 23, 14],\n",
              "       [24, 17,  5],\n",
              "       [13,  8,  9]])"
            ]
          },
          "metadata": {
            "tags": []
          },
          "execution_count": 108
        }
      ]
    },
    {
      "cell_type": "code",
      "metadata": {
        "id": "d6EmoGwDbczx",
        "colab_type": "code",
        "outputId": "46445ac3-cbba-4256-c772-081dc2c59ada",
        "colab": {
          "base_uri": "https://localhost:8080/",
          "height": 136
        }
      },
      "source": [
        "np.random.randint(25,size=(2,3,3))"
      ],
      "execution_count": 0,
      "outputs": [
        {
          "output_type": "execute_result",
          "data": {
            "text/plain": [
              "array([[[20, 17, 15],\n",
              "        [ 4,  9, 10],\n",
              "        [24,  1,  1]],\n",
              "\n",
              "       [[ 7,  9,  3],\n",
              "        [ 6, 23, 11],\n",
              "        [14, 18,  0]]])"
            ]
          },
          "metadata": {
            "tags": []
          },
          "execution_count": 111
        }
      ]
    },
    {
      "cell_type": "code",
      "metadata": {
        "id": "oAqGv82ubEwf",
        "colab_type": "code",
        "outputId": "2467c389-6c7c-489a-88c8-02dddb1d0e7f",
        "colab": {
          "base_uri": "https://localhost:8080/",
          "height": 34
        }
      },
      "source": [
        "np.random.randint(25,size=(2,3,3)).size #  size is always the multiplied output of the mentioned "
      ],
      "execution_count": 0,
      "outputs": [
        {
          "output_type": "execute_result",
          "data": {
            "text/plain": [
              "18"
            ]
          },
          "metadata": {
            "tags": []
          },
          "execution_count": 110
        }
      ]
    },
    {
      "cell_type": "code",
      "metadata": {
        "id": "yOjwbTSybmSc",
        "colab_type": "code",
        "outputId": "ceeca9c8-f659-4691-e14a-efc46547479f",
        "colab": {
          "base_uri": "https://localhost:8080/",
          "height": 34
        }
      },
      "source": [
        "np.random.randint(25,size=(2,3,3)).ndim #  size is always the multiplied output of the mentioned "
      ],
      "execution_count": 0,
      "outputs": [
        {
          "output_type": "execute_result",
          "data": {
            "text/plain": [
              "3"
            ]
          },
          "metadata": {
            "tags": []
          },
          "execution_count": 112
        }
      ]
    },
    {
      "cell_type": "code",
      "metadata": {
        "id": "P1TZk-WXbvGc",
        "colab_type": "code",
        "outputId": "f3120a25-8cee-481a-d08d-8c4920e9ac12",
        "colab": {
          "base_uri": "https://localhost:8080/",
          "height": 34
        }
      },
      "source": [
        "np.random.randint(25,size=(2,3,3,4)).size #  size is always the multiplied output of the mentioned "
      ],
      "execution_count": 0,
      "outputs": [
        {
          "output_type": "execute_result",
          "data": {
            "text/plain": [
              "72"
            ]
          },
          "metadata": {
            "tags": []
          },
          "execution_count": 113
        }
      ]
    },
    {
      "cell_type": "code",
      "metadata": {
        "id": "pyWm-nBZbvQF",
        "colab_type": "code",
        "outputId": "9a659fa0-d3fe-4b69-b549-36e055b5bcac",
        "colab": {
          "base_uri": "https://localhost:8080/",
          "height": 34
        }
      },
      "source": [
        "np.random.randint(25,size=(2,3,4,3)).ndim #  size is always the multiplied output of the mentioned "
      ],
      "execution_count": 0,
      "outputs": [
        {
          "output_type": "execute_result",
          "data": {
            "text/plain": [
              "4"
            ]
          },
          "metadata": {
            "tags": []
          },
          "execution_count": 115
        }
      ]
    },
    {
      "cell_type": "code",
      "metadata": {
        "id": "QF-ZRzeiaAiv",
        "colab_type": "code",
        "outputId": "87c8bcbc-77f2-49c4-b5fe-783ba119118b",
        "colab": {
          "base_uri": "https://localhost:8080/",
          "height": 34
        }
      },
      "source": [
        "np.arange(10) # Ranging numbers"
      ],
      "execution_count": 0,
      "outputs": [
        {
          "output_type": "execute_result",
          "data": {
            "text/plain": [
              "array([0, 1, 2, 3, 4, 5, 6, 7, 8, 9])"
            ]
          },
          "metadata": {
            "tags": []
          },
          "execution_count": 105
        }
      ]
    },
    {
      "cell_type": "code",
      "metadata": {
        "id": "F3ZNC8DkaRSH",
        "colab_type": "code",
        "outputId": "8a0174b8-83f8-4272-90de-b4f91afccf20",
        "colab": {
          "base_uri": "https://localhost:8080/",
          "height": 34
        }
      },
      "source": [
        "np.arange(13,30) # Ranging start and end"
      ],
      "execution_count": 0,
      "outputs": [
        {
          "output_type": "execute_result",
          "data": {
            "text/plain": [
              "array([13, 14, 15, 16, 17, 18, 19, 20, 21, 22, 23, 24, 25, 26, 27, 28, 29])"
            ]
          },
          "metadata": {
            "tags": []
          },
          "execution_count": 106
        }
      ]
    },
    {
      "cell_type": "code",
      "metadata": {
        "id": "gqlRYkJ9ayDw",
        "colab_type": "code",
        "outputId": "83ae5583-5461-43e4-9116-7d2a44fbe10a",
        "colab": {
          "base_uri": "https://localhost:8080/",
          "height": 34
        }
      },
      "source": [
        "np.arange(13,30,4) # With a difference we get"
      ],
      "execution_count": 0,
      "outputs": [
        {
          "output_type": "execute_result",
          "data": {
            "text/plain": [
              "array([13, 17, 21, 25, 29])"
            ]
          },
          "metadata": {
            "tags": []
          },
          "execution_count": 119
        }
      ]
    },
    {
      "cell_type": "code",
      "metadata": {
        "id": "wWgR_Xsdax_Y",
        "colab_type": "code",
        "outputId": "05ce5c69-5609-44b9-e00a-22ba3a77ece8",
        "colab": {
          "base_uri": "https://localhost:8080/",
          "height": 34
        }
      },
      "source": [
        "np.linspace(20,30,5) # With a factional difference we get a result"
      ],
      "execution_count": 0,
      "outputs": [
        {
          "output_type": "execute_result",
          "data": {
            "text/plain": [
              "array([20. , 22.5, 25. , 27.5, 30. ])"
            ]
          },
          "metadata": {
            "tags": []
          },
          "execution_count": 122
        }
      ]
    },
    {
      "cell_type": "code",
      "metadata": {
        "id": "CXxEEeZLnUvN",
        "colab_type": "code",
        "outputId": "8450c52d-cee3-449d-e6df-d6aee685a39b",
        "colab": {
          "base_uri": "https://localhost:8080/",
          "height": 34
        }
      },
      "source": [
        "np.linspace(1,2,5,retstep=True) # With a factional difference of 0.25 we get a result"
      ],
      "execution_count": 0,
      "outputs": [
        {
          "output_type": "execute_result",
          "data": {
            "text/plain": [
              "(array([1.  , 1.25, 1.5 , 1.75, 2.  ]), 0.25)"
            ]
          },
          "metadata": {
            "tags": []
          },
          "execution_count": 125
        }
      ]
    },
    {
      "cell_type": "code",
      "metadata": {
        "id": "5Km12Pmun7Gl",
        "colab_type": "code",
        "outputId": "46bec96e-f82c-4952-9d67-fc7ad5cdecee",
        "colab": {
          "base_uri": "https://localhost:8080/",
          "height": 34
        }
      },
      "source": [
        "np.logspace(10,20,num=2,base=2) # With a logarithmic difference of the given numbers array is formed."
      ],
      "execution_count": 0,
      "outputs": [
        {
          "output_type": "execute_result",
          "data": {
            "text/plain": [
              "array([1.024000e+03, 1.048576e+06])"
            ]
          },
          "metadata": {
            "tags": []
          },
          "execution_count": 128
        }
      ]
    },
    {
      "cell_type": "code",
      "metadata": {
        "id": "vnP3KQrPoPpf",
        "colab_type": "code",
        "outputId": "0a45b837-fd25-415b-ab04-628736cb38a9",
        "colab": {
          "base_uri": "https://localhost:8080/",
          "height": 85
        }
      },
      "source": [
        "a=np.array([1,2,3,4,5])\n",
        "print(a+1) \n",
        "print(a-1) \n",
        "print(a*2) \n",
        "print(a/2) "
      ],
      "execution_count": 0,
      "outputs": [
        {
          "output_type": "stream",
          "text": [
            "[2 3 4 5 6]\n",
            "[0 1 2 3 4]\n",
            "[ 2  4  6  8 10]\n",
            "[0.5 1.  1.5 2.  2.5]\n"
          ],
          "name": "stdout"
        }
      ]
    },
    {
      "cell_type": "code",
      "metadata": {
        "id": "4k9M8kU7o0ux",
        "colab_type": "code",
        "outputId": "0efb7e53-5768-4aed-a554-cc5239b514d1",
        "colab": {
          "base_uri": "https://localhost:8080/",
          "height": 187
        }
      },
      "source": [
        "a=np.random.randint((10,30),size=(2,2))\n",
        "print(a)\n",
        "print(a+1) \n",
        "print(a-1) \n",
        "print(a*2) \n",
        "print(a/2)"
      ],
      "execution_count": 0,
      "outputs": [
        {
          "output_type": "stream",
          "text": [
            "[[ 9 28]\n",
            " [ 1  9]]\n",
            "[[10 29]\n",
            " [ 2 10]]\n",
            "[[ 8 27]\n",
            " [ 0  8]]\n",
            "[[18 56]\n",
            " [ 2 18]]\n",
            "[[ 4.5 14. ]\n",
            " [ 0.5  4.5]]\n"
          ],
          "name": "stdout"
        }
      ]
    },
    {
      "cell_type": "code",
      "metadata": {
        "id": "vK12rEUFpPLH",
        "colab_type": "code",
        "outputId": "8c844503-faad-41a0-a07e-3aa68e1e8e4a",
        "colab": {
          "base_uri": "https://localhost:8080/",
          "height": 187
        }
      },
      "source": [
        "a=np.linspace(10,20,8)\n",
        "print(a)\n",
        "print(a+1) \n",
        "print(a-1) \n",
        "print(a*2) \n",
        "print(a/2)"
      ],
      "execution_count": 0,
      "outputs": [
        {
          "output_type": "stream",
          "text": [
            "[10.         11.42857143 12.85714286 14.28571429 15.71428571 17.14285714\n",
            " 18.57142857 20.        ]\n",
            "[11.         12.42857143 13.85714286 15.28571429 16.71428571 18.14285714\n",
            " 19.57142857 21.        ]\n",
            "[ 9.         10.42857143 11.85714286 13.28571429 14.71428571 16.14285714\n",
            " 17.57142857 19.        ]\n",
            "[20.         22.85714286 25.71428571 28.57142857 31.42857143 34.28571429\n",
            " 37.14285714 40.        ]\n",
            "[ 5.          5.71428571  6.42857143  7.14285714  7.85714286  8.57142857\n",
            "  9.28571429 10.        ]\n"
          ],
          "name": "stdout"
        }
      ]
    },
    {
      "cell_type": "code",
      "metadata": {
        "id": "Cvi0BJ4Fqfq-",
        "colab_type": "code",
        "outputId": "f2dedc12-51c5-48bd-b296-35dd5423ef52",
        "colab": {
          "base_uri": "https://localhost:8080/",
          "height": 204
        }
      },
      "source": [
        "a=np.random.randint(12,size=10)\n",
        "b=np.linspace(10,20,10)\n",
        "print(a)\n",
        "print(b)\n",
        "print(np.add(a,b))\n",
        "print(np.subtract(a,b))\n",
        "print(np.multiply(a,b))\n",
        "print(np.divide(a,b))"
      ],
      "execution_count": 0,
      "outputs": [
        {
          "output_type": "stream",
          "text": [
            "[ 0 10  3 10  1 10  9  9  6  6]\n",
            "[10.         11.11111111 12.22222222 13.33333333 14.44444444 15.55555556\n",
            " 16.66666667 17.77777778 18.88888889 20.        ]\n",
            "[10.         21.11111111 15.22222222 23.33333333 15.44444444 25.55555556\n",
            " 25.66666667 26.77777778 24.88888889 26.        ]\n",
            "[-10.          -1.11111111  -9.22222222  -3.33333333 -13.44444444\n",
            "  -5.55555556  -7.66666667  -8.77777778 -12.88888889 -14.        ]\n",
            "[  0.         111.11111111  36.66666667 133.33333333  14.44444444\n",
            " 155.55555556 150.         160.         113.33333333 120.        ]\n",
            "[0.         0.9        0.24545455 0.75       0.06923077 0.64285714\n",
            " 0.54       0.50625    0.31764706 0.3       ]\n"
          ],
          "name": "stdout"
        }
      ]
    },
    {
      "cell_type": "code",
      "metadata": {
        "id": "zkQY40Nqsf7C",
        "colab_type": "code",
        "outputId": "57fc525a-17cc-45aa-d594-a3e5fa35efe1",
        "colab": {
          "base_uri": "https://localhost:8080/",
          "height": 255
        }
      },
      "source": [
        "a=np.random.randint(12,size=(2,2))\n",
        "print(a)\n",
        "print(np.reciprocal(a))\n",
        "print(np.power(a,2))\n",
        "print(np.real(a))\n",
        "print(np.conjugate(a))\n",
        "print(np.imag(a))\n",
        "print(np.angle(a))"
      ],
      "execution_count": 0,
      "outputs": [
        {
          "output_type": "stream",
          "text": [
            "[[ 5  9]\n",
            " [ 7 11]]\n",
            "[[0 0]\n",
            " [0 0]]\n",
            "[[ 25  81]\n",
            " [ 49 121]]\n",
            "[[ 5  9]\n",
            " [ 7 11]]\n",
            "[[ 5  9]\n",
            " [ 7 11]]\n",
            "[[0 0]\n",
            " [0 0]]\n",
            "[[0. 0.]\n",
            " [0. 0.]]\n"
          ],
          "name": "stdout"
        }
      ]
    },
    {
      "cell_type": "markdown",
      "metadata": {
        "id": "KQnPKV7bjVkr",
        "colab_type": "text"
      },
      "source": [
        "## Dimensions and shape check "
      ]
    },
    {
      "cell_type": "code",
      "metadata": {
        "colab_type": "code",
        "id": "gKCkCejqi_5_",
        "colab": {}
      },
      "source": [
        "c=np.random.randint(25,size=(2,3,3))"
      ],
      "execution_count": 0,
      "outputs": []
    },
    {
      "cell_type": "code",
      "metadata": {
        "id": "xJ_dpB-g-QPz",
        "colab_type": "code",
        "outputId": "5a1adc9e-0df9-4e01-8ebf-2a9900cf8ead",
        "colab": {
          "base_uri": "https://localhost:8080/",
          "height": 69
        }
      },
      "source": [
        "print(\"c ndim: \", c.ndim)\n",
        "print(\"c shape:\", c.shape)\n",
        "print(\"c size: \", c.size)"
      ],
      "execution_count": 0,
      "outputs": [
        {
          "output_type": "stream",
          "text": [
            "c ndim:  3\n",
            "c shape: (2, 3, 3)\n",
            "c size:  18\n"
          ],
          "name": "stdout"
        }
      ]
    },
    {
      "cell_type": "code",
      "metadata": {
        "id": "XpAD5a0_Sy6Z",
        "colab_type": "code",
        "colab": {}
      },
      "source": [
        ""
      ],
      "execution_count": 0,
      "outputs": []
    },
    {
      "cell_type": "code",
      "metadata": {
        "id": "-m9kITid-QTk",
        "colab_type": "code",
        "colab": {}
      },
      "source": [
        ""
      ],
      "execution_count": 0,
      "outputs": []
    }
  ]
}