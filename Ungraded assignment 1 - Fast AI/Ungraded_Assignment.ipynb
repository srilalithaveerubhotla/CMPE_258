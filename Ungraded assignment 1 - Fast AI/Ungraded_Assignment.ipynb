{
  "nbformat": 4,
  "nbformat_minor": 0,
  "metadata": {
    "colab": {
      "name": "Ungraded_Assignment",
      "provenance": [],
      "authorship_tag": "ABX9TyMU7UGr1bXqRPduqtq4hfoz",
      "include_colab_link": true
    },
    "kernelspec": {
      "name": "python3",
      "display_name": "Python 3"
    }
  },
  "cells": [
    {
      "cell_type": "markdown",
      "metadata": {
        "id": "view-in-github",
        "colab_type": "text"
      },
      "source": [
        "<a href=\"https://colab.research.google.com/github/srilalithaveerubhotla/CMPE_258/blob/master/Ungraded_Assignment.ipynb\" target=\"_parent\"><img src=\"https://colab.research.google.com/assets/colab-badge.svg\" alt=\"Open In Colab\"/></a>"
      ]
    },
    {
      "cell_type": "markdown",
      "metadata": {
        "id": "SUxtQUlpMqLS",
        "colab_type": "text"
      },
      "source": [
        "###Basic Operations in Juypter Notebook "
      ]
    },
    {
      "cell_type": "code",
      "metadata": {
        "id": "CAO_M41ZMsAJ",
        "colab_type": "code",
        "colab": {
          "base_uri": "https://localhost:8080/",
          "height": 68
        },
        "outputId": "b93957fa-e44c-4b27-f96b-ce1e8a553598"
      },
      "source": [
        "print(1+1)\n",
        "print(9/3)\n",
        "print(6*8)"
      ],
      "execution_count": 16,
      "outputs": [
        {
          "output_type": "stream",
          "text": [
            "2\n",
            "3.0\n",
            "48\n"
          ],
          "name": "stdout"
        }
      ]
    },
    {
      "cell_type": "markdown",
      "metadata": {
        "id": "61MdNSwwO38K",
        "colab_type": "text"
      },
      "source": [
        "##**Easy Mark Down's in Jupyter Notebook**"
      ]
    },
    {
      "cell_type": "markdown",
      "metadata": {
        "id": "fwePX_h8NRbQ",
        "colab_type": "text"
      },
      "source": [
        "*This is formating code with italic markdown by just adding '*' before the text\n",
        "\n",
        "**This is formating code with Bold markdown by just adding '**' before the text\n",
        "\n",
        "'`'This is formating code with inline markdown by just adding ''`'' before \n",
        "\n",
        "'>'This is block qoute by adding ''>'' before the text \n",
        "\n",
        "[adding links to the text by[]](https://github.com/fastai/course-v3/blob/master/nbs/dl1/00_notebook_tutorial.ipynb)\n",
        "\n"
      ]
    },
    {
      "cell_type": "code",
      "metadata": {
        "id": "AbftyKndMGkx",
        "colab_type": "code",
        "colab": {}
      },
      "source": [
        "# Importing necessary libraries\n",
        "from fastai.vision import * \n",
        "import matplotlib.pyplot as plt\n",
        "from PIL import Image\n",
        "import urllib.request"
      ],
      "execution_count": 0,
      "outputs": []
    },
    {
      "cell_type": "code",
      "metadata": {
        "id": "SXRcNvRIMpJB",
        "colab_type": "code",
        "colab": {
          "base_uri": "https://localhost:8080/",
          "height": 34
        },
        "outputId": "16a280b1-1027-4e17-89fa-9842704f8d0a"
      },
      "source": [
        "a = 1\n",
        "b = a + 2\n",
        "c = b + a + 3\n",
        "d = c + b + a + 4\n",
        "a, b, c ,d"
      ],
      "execution_count": 18,
      "outputs": [
        {
          "output_type": "execute_result",
          "data": {
            "text/plain": [
              "(1, 3, 7, 15)"
            ]
          },
          "metadata": {
            "tags": []
          },
          "execution_count": 18
        }
      ]
    },
    {
      "cell_type": "code",
      "metadata": {
        "id": "rIYWFKLvMpXi",
        "colab_type": "code",
        "colab": {
          "base_uri": "https://localhost:8080/",
          "height": 265
        },
        "outputId": "44004340-785f-42ae-8617-abda68c094b7"
      },
      "source": [
        "plt.plot([a,b,c,d])\n",
        "plt.show()"
      ],
      "execution_count": 20,
      "outputs": [
        {
          "output_type": "display_data",
          "data": {
            "image/png": "[encoded data removed]",
            "text/plain": [
              "<Figure size 432x288 with 1 Axes>"
            ]
          },
          "metadata": {
            "tags": []
          }
        }
      ]
    },
    {
      "cell_type": "markdown",
      "metadata": {
        "id": "0n8uckJDWzef",
        "colab_type": "text"
      },
      "source": [
        "##Mark Down text shortcuts\n",
        "\n",
        "m: shortcut for cell to Markdown\n",
        "\n",
        "y: shortcut for cell to Code\n",
        "\n",
        "D+D: shortcut for delete cell\n",
        "\n",
        "o: shortcut for toggle between hide or show output\n",
        "\n",
        "Shift+M: shortcut for merging the selected cells."
      ]
    },
    {
      "cell_type": "code",
      "metadata": {
        "id": "sTsGn6q4YCJs",
        "colab_type": "code",
        "colab": {}
      },
      "source": [
        ""
      ],
      "execution_count": 0,
      "outputs": []
    }
  ]
}